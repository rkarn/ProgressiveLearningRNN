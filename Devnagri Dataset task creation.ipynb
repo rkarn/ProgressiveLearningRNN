{
 "cells": [
  {
   "cell_type": "code",
   "execution_count": 1,
   "metadata": {},
   "outputs": [
    {
     "data": {
      "image/png": "[encoded data removed]",
      "text/plain": [
       "<Figure size 432x288 with 8 Axes>"
      ]
     },
     "metadata": {
      "needs_background": "light"
     },
     "output_type": "display_data"
    },
    {
     "name": "stdout",
     "output_type": "stream",
     "text": [
      "(61640, 1024) (61640,) (30360, 1024) (30360,)\n"
     ]
    }
   ],
   "source": [
    "from __future__ import absolute_import\n",
    "from __future__ import division\n",
    "from __future__ import print_function\n",
    "\n",
    "import numpy as np\n",
    "import pandas as pd\n",
    "from tensorflow.keras.models import Sequential\n",
    "from tensorflow.keras.layers import Dense, Activation, SimpleRNN\n",
    "from tensorflow.keras.utils import to_categorical, plot_model\n",
    "from tensorflow.keras.datasets import mnist\n",
    "import matplotlib.pyplot as plt\n",
    "from sklearn.model_selection import train_test_split\n",
    "\n",
    "dataset = pd.read_csv(\"data.csv\")\n",
    "value_image = pd.DataFrame(dataset.iloc[:,1024].value_counts()).T.rename(index = {0:'null values (nb)'})\n",
    "row_to_remove = np.where(dataset.iloc[:,1024].values == 1024)\n",
    "\n",
    "from sklearn import preprocessing\n",
    "# label_encoder object knows how to understand word labels.\n",
    "label_encoder = preprocessing.LabelEncoder()\n",
    "# Encode labels in column 'species'.\n",
    "dataset['character']= label_encoder.fit_transform(dataset['character'])\n",
    "\n",
    "x = dataset.iloc[:,:-1].values\n",
    "y = dataset.iloc[:,-1].values\n",
    "num_pixels = x.shape[1]\n",
    "num_classes = 46\n",
    "photo_width = 32\n",
    "photo_height = 32\n",
    "photo_depth = 1\n",
    "x_images = x.reshape(x.shape[0], photo_width, photo_height)\n",
    "for i in range(1,9):\n",
    "    plt.subplot(240+i)\n",
    "    plt.axis('off')\n",
    "    plt.imshow(x_images[i-1], cmap=plt.get_cmap('gray'))\n",
    "plt.show()\n",
    "\n",
    "# split dataset\n",
    "x_train, x_test, y_train, y_test = train_test_split(x, y, test_size=0.33, random_state=42)\n",
    "\n",
    "# resize and normalize\n",
    "image_size = int(np.sqrt(x_train.shape[1]))\n",
    "x_train = np.reshape(x_train,[-1, image_size * image_size])\n",
    "x_test = np.reshape(x_test,[-1, image_size* image_size])\n",
    "x_train = x_train.astype('float32') / 255\n",
    "x_test = x_test.astype('float32') / 255\n",
    "\n",
    "print(x_train.shape, y_train.shape, x_test.shape, y_test.shape)"
   ]
  },
  {
   "cell_type": "code",
   "execution_count": 2,
   "metadata": {},
   "outputs": [
    {
     "name": "stdout",
     "output_type": "stream",
     "text": [
      "{'character_01_ka': 0, 'character_02_kha': 1, 'character_03_ga': 2, 'character_04_gha': 3, 'character_05_kna': 4, 'character_06_cha': 5, 'character_07_chha': 6, 'character_08_ja': 7, 'character_09_jha': 8, 'character_10_yna': 9, 'character_11_taamatar': 10, 'character_12_thaa': 11, 'character_13_daa': 12, 'character_14_dhaa': 13, 'character_15_adna': 14, 'character_16_tabala': 15, 'character_17_tha': 16, 'character_18_da': 17, 'character_19_dha': 18, 'character_20_na': 19, 'character_21_pa': 20, 'character_22_pha': 21, 'character_23_ba': 22, 'character_24_bha': 23, 'character_25_ma': 24, 'character_26_yaw': 25, 'character_27_ra': 26, 'character_28_la': 27, 'character_29_waw': 28, 'character_30_motosaw': 29, 'character_31_petchiryakha': 30, 'character_32_patalosaw': 31, 'character_33_ha': 32, 'character_34_chhya': 33, 'character_35_tra': 34, 'character_36_gya': 35, 'digit_0': 36, 'digit_1': 37, 'digit_2': 38, 'digit_3': 39, 'digit_4': 40, 'digit_5': 41, 'digit_6': 42, 'digit_7': 43, 'digit_8': 44, 'digit_9': 45}\n"
     ]
    }
   ],
   "source": [
    "le_name_mapping = dict(zip(label_encoder.classes_, label_encoder.transform(label_encoder.classes_)))\n",
    "print(le_name_mapping)"
   ]
  },
  {
   "cell_type": "code",
   "execution_count": 3,
   "metadata": {},
   "outputs": [
    {
     "name": "stderr",
     "output_type": "stream",
     "text": [
      "Using TensorFlow backend.\n"
     ]
    },
    {
     "name": "stdout",
     "output_type": "stream",
     "text": [
      "Task 0 size: Trainset - (2680, 1024), (2680, 46), Testset - (1320, 1024), (1320, 46)\n",
      "Task 1 size: Trainset - (2717, 1024), (2717, 46), Testset - (1283, 1024), (1283, 46)\n",
      "Task 2 size: Trainset - (2663, 1024), (2663, 46), Testset - (1337, 1024), (1337, 46)\n",
      "Task 3 size: Trainset - (2716, 1024), (2716, 46), Testset - (1284, 1024), (1284, 46)\n",
      "Task 4 size: Trainset - (2711, 1024), (2711, 46), Testset - (1289, 1024), (1289, 46)\n",
      "Task 5 size: Trainset - (2688, 1024), (2688, 46), Testset - (1312, 1024), (1312, 46)\n",
      "Task 6 size: Trainset - (2706, 1024), (2706, 46), Testset - (1294, 1024), (1294, 46)\n",
      "Task 7 size: Trainset - (2698, 1024), (2698, 46), Testset - (1302, 1024), (1302, 46)\n",
      "Task 8 size: Trainset - (2613, 1024), (2613, 46), Testset - (1387, 1024), (1387, 46)\n",
      "Task 9 size: Trainset - (2639, 1024), (2639, 46), Testset - (1361, 1024), (1361, 46)\n",
      "Task 10 size: Trainset - (2648, 1024), (2648, 46), Testset - (1352, 1024), (1352, 46)\n",
      "Task 11 size: Trainset - (2657, 1024), (2657, 46), Testset - (1343, 1024), (1343, 46)\n",
      "Task 12 size: Trainset - (2706, 1024), (2706, 46), Testset - (1294, 1024), (1294, 46)\n",
      "Task 13 size: Trainset - (2671, 1024), (2671, 46), Testset - (1329, 1024), (1329, 46)\n",
      "Task 14 size: Trainset - (2667, 1024), (2667, 46), Testset - (1333, 1024), (1333, 46)\n",
      "Task 15 size: Trainset - (2713, 1024), (2713, 46), Testset - (1287, 1024), (1287, 46)\n",
      "Task 16 size: Trainset - (2649, 1024), (2649, 46), Testset - (1351, 1024), (1351, 46)\n",
      "Task 17 size: Trainset - (2640, 1024), (2640, 46), Testset - (1360, 1024), (1360, 46)\n",
      "Task 18 size: Trainset - (2667, 1024), (2667, 46), Testset - (1333, 1024), (1333, 46)\n",
      "Task 19 size: Trainset - (2703, 1024), (2703, 46), Testset - (1297, 1024), (1297, 46)\n",
      "Task 20 size: Trainset - (2704, 1024), (2704, 46), Testset - (1296, 1024), (1296, 46)\n",
      "Task 21 size: Trainset - (2658, 1024), (2658, 46), Testset - (1342, 1024), (1342, 46)\n",
      "Task 22 size: Trainset - (2726, 1024), (2726, 46), Testset - (1274, 1024), (1274, 46)\n"
     ]
    }
   ],
   "source": [
    "import numpy as np\n",
    "import pickle\n",
    "\n",
    "np.random.seed(100)\n",
    "n_tasks = 5\n",
    "\n",
    "from keras.utils import np_utils\n",
    "\n",
    "#task_labels = [[0,1], [2,3], [4,5], [6,7], [8,9]]\n",
    "#task_labels = [[0,1], [2,3], [4,5], [6,7], [8,9]]\n",
    "task_labels = [[0,1], [2,3], [4,5], [6,7], [8,9], [10, 11], [12,13], [14,15], [16,17], [18,19], [20,21],\n",
    "              [22,23], [24,25], [26,27], [28,29], [30,31], [32,33], [34,35], [36,37], [38,39], [40,41],\n",
    "              [42,43], [44,45]]\n",
    "#task_labels = [[4,2], [0,6], [3,8], [9,7], [1,5],[8,9],[6,7],[5,5],[3,2],[0,1]]\n",
    "#task_labels = [[16,14], [25, 7], [20, 27], [15, 1], [32, 19]]\n",
    "#task_labels = [[0,9], [7,8], [3,6], [1,4], [2,5]]\n",
    "#task_labels = [[9, 3], [1, 8], [7, 4], [0, 5], [6, 2]]\n",
    "#task_labels = [[0,1], [2,3,1,0],[4,5,1,2], [6,7,3,0],[8,9,4,6]]\n",
    "n_tasks = len(task_labels)\n",
    "nb_classes  = num_classes\n",
    "training_datasets = []\n",
    "validation_datasets = []\n",
    "multihead=False\n",
    "\n",
    "for labels in task_labels:\n",
    "    idx = np.in1d(y_train, labels)\n",
    "    if multihead:\n",
    "        label_map = np.arange(nb_classes)\n",
    "        label_map[labels] = np.arange(len(labels))\n",
    "        data = x_train[idx], np_utils.to_categorical(label_map[y_train[idx]], len(labels))\n",
    "    else:\n",
    "        data = x_train[idx], np_utils.to_categorical(y_train[idx], nb_classes)\n",
    "        training_datasets.append(data)\n",
    "\n",
    "for labels in task_labels:\n",
    "    idx = np.in1d(y_test, labels)\n",
    "    if multihead:\n",
    "        label_map = np.arange(nb_classes)\n",
    "        label_map[labels] = np.arange(len(labels))\n",
    "        data = x_test[idx], np_utils.to_categorical(label_map[y_test[idx]], len(labels))\n",
    "    else:\n",
    "        data = x_test[idx], np_utils.to_categorical(y_test[idx], nb_classes)\n",
    "        validation_datasets.append(data)\n",
    "        \n",
    "tasks_train={}; labels_train = {}; tasks_test = {}; labels_test = {}\n",
    "\n",
    "for i in range(len(task_labels)):\n",
    "    tasks_train[str(i)] = training_datasets[i][0]\n",
    "    labels_train[str(i)] = training_datasets[i][1]\n",
    "    tasks_test[str(i)] = validation_datasets[i][0]\n",
    "    labels_test[str(i)] = validation_datasets[i][1]\n",
    "    print('Task {0} size: Trainset - {1}, {2}, Testset - {3}, {4}'.format(i,tasks_train[str(i)].shape, labels_train[str(i)].shape, tasks_test[str(i)].shape, labels_test[str(i)].shape))\n",
    "\n",
    "Tasks_dumped = []\n",
    "for i in range(len(task_labels)):\n",
    "    Tasks_dumped.append((tasks_train[str(i)], labels_train[str(i)], tasks_test[str(i)], labels_test[str(i)], tasks_test[str(i)], labels_test[str(i)]))\n",
    "f = open('devnagri_tasks.pkl', \"wb\")\n",
    "pickle.dump(Tasks_dumped, f)\n",
    "f.close()"
   ]
  },
  {
   "cell_type": "code",
   "execution_count": null,
   "metadata": {},
   "outputs": [],
   "source": []
  }
 ],
 "metadata": {
  "kernelspec": {
   "display_name": "Python 3",
   "language": "python",
   "name": "python3"
  },
  "language_info": {
   "codemirror_mode": {
    "name": "ipython",
    "version": 3
   },
   "file_extension": ".py",
   "mimetype": "text/x-python",
   "name": "python",
   "nbconvert_exporter": "python",
   "pygments_lexer": "ipython3",
   "version": "3.6.9"
  }
 },
 "nbformat": 4,
 "nbformat_minor": 4
}
